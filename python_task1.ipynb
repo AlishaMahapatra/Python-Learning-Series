{
 "cells": [
  {
   "cell_type": "code",
   "execution_count": 10,
   "id": "239ef18c",
   "metadata": {},
   "outputs": [
    {
     "ename": "IndentationError",
     "evalue": "expected an indented block (1416894788.py, line 16)",
     "output_type": "error",
     "traceback": [
      "\u001b[1;36m  Input \u001b[1;32mIn [10]\u001b[1;36m\u001b[0m\n\u001b[1;33m    def input_code():\u001b[0m\n\u001b[1;37m    ^\u001b[0m\n\u001b[1;31mIndentationError\u001b[0m\u001b[1;31m:\u001b[0m expected an indented block\n"
     ]
    }
   ],
   "source": [
    " import random \n",
    "def gen_code():  \n",
    "    gen_code = [] \n",
    "    for i in range(4): \n",
    "        val =random(0.9)\n",
    "    return get_code \n",
    " def input_code():  \n",
    "    code = input(\"Enter your four digit code-\") \n",
    "    return code \n",
    "gencode = gen_code() \n",
    "i = 0\n",
    " while i < 10: \n",
    "    inputCode = [int(c) for c in input_code()] \n",
    "if len(inputCode) != 4: \n",
    "def input_code():\n",
    "    if inputCode == genCode: \n",
    "    print(\"You guessed it right\") \n",
    "for element in inputCode: \n",
    "    if element in genCode: \n",
    "    if inputCode.index(element) == genCode.index(element): \n",
    "result+=\"R\"\n",
    "else: \n",
    "    result+=\"A\"\n",
    "     else: \n",
    "    result+=\"W\"\n",
    "print(result) \n",
    "i += 1\n",
    " else:     \n",
    "print(\"You are running out of trys!\", try again)     \n",
    "\n",
    "print(\"end\")"
   ]
  },
  {
   "cell_type": "code",
   "execution_count": 1,
   "id": "6b21e49e",
   "metadata": {},
   "outputs": [
    {
     "name": "stdout",
     "output_type": "stream",
     "text": [
      "math\n",
      "{'math': 6, 'chem': 4, 'phy': 4, 'cs': 2, 'history': 2, 'eco': 2}\n"
     ]
    }
   ],
   "source": [
    "def numbers(students):\n",
    "    num = {}\n",
    "    for student in students:\n",
    "        for course in student:\n",
    "            if course not in num:\n",
    "                num[course] = 0\n",
    "            num[course] += 2\n",
    "    return num\n",
    "def popular(num):\n",
    "    max_course, max_enroll = None, 0\n",
    "    for course, enroll in num.items():\n",
    "        if max_enroll<enroll:\n",
    "            max_enroll, max_course = enroll, course\n",
    "    return max_course\n",
    "data = numbers([[\"math\", \"chem\", \"phy\",\"cs\"], [\"math\", \"phy\"], [\"math\", \"chem\"], [\"history\", \"eco\"]])\n",
    "\n",
    "print(popular(data))\n",
    "\n",
    "print(data)"
   ]
  },
  {
   "cell_type": "code",
   "execution_count": 3,
   "id": "203d0bd6",
   "metadata": {},
   "outputs": [
    {
     "ename": "IndentationError",
     "evalue": "unindent does not match any outer indentation level (<tokenize>, line 8)",
     "output_type": "error",
     "traceback": [
      "\u001b[1;36m  File \u001b[1;32m<tokenize>:8\u001b[1;36m\u001b[0m\n\u001b[1;33m    for s in subject:\u001b[0m\n\u001b[1;37m    ^\u001b[0m\n\u001b[1;31mIndentationError\u001b[0m\u001b[1;31m:\u001b[0m unindent does not match any outer indentation level\n"
     ]
    }
   ],
   "source": [
    "def numbers(students):\n",
    "    subject=[]\n",
    "    num=[]\n",
    "num_std=len(students)\n",
    "        for e in students[n]:\n",
    "            if not e in subject:\n",
    "                subject.append(e)\n",
    "    for s in subject:\n",
    "    c=0\n",
    "    if s in students[n]:\n",
    "        for n in range(num_std):\n",
    "        c=c+1\n",
    "        num.update({s:c})\n",
    "    return(num) \n",
    "print(\"Number of students\")\n",
    "n=int(input())\n",
    "students=[]\n",
    "li=[]\n",
    "for i in range(n):\n",
    "    print(\"Enter number of subjects\",(i+1))\n",
    "    st=int(input())\n",
    "    print(\"Enter the subjects\")\n",
    "    li=[]\n",
    "    for j in range(st):\n",
    "        ele=input()\n",
    "        li.append(ele)\n",
    "    students.append(li)\n",
    "print(students)\n",
    "num=numbers(students)\n",
    "def popular(num):\n",
    "    mx=0\n",
    "    de=len(num)\n",
    "    for key\n",
    "    if mx<value:\n",
    "        mx=value\n",
    "            popular_course=key\n",
    "    print(\"popular course=\")        \n",
    "    return(popular_course)\n",
    "print(popular(num))"
   ]
  },
  {
   "cell_type": "code",
   "execution_count": null,
   "id": "c91c2a44",
   "metadata": {},
   "outputs": [],
   "source": []
  }
 ],
 "metadata": {
  "kernelspec": {
   "display_name": "Python 3 (ipykernel)",
   "language": "python",
   "name": "python3"
  },
  "language_info": {
   "codemirror_mode": {
    "name": "ipython",
    "version": 3
   },
   "file_extension": ".py",
   "mimetype": "text/x-python",
   "name": "python",
   "nbconvert_exporter": "python",
   "pygments_lexer": "ipython3",
   "version": "3.9.12"
  }
 },
 "nbformat": 4,
 "nbformat_minor": 5
}
